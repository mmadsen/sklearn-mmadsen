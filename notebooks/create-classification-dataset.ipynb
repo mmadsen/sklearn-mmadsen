{
 "cells": [
  {
   "cell_type": "code",
   "execution_count": 3,
   "metadata": {
    "collapsed": false
   },
   "outputs": [
    {
     "name": "stderr",
     "output_type": "stream",
     "text": [
      "/Users/mark/anaconda/lib/python2.7/site-packages/matplotlib/__init__.py:872: UserWarning: axes.color_cycle is deprecated and replaced with axes.prop_cycle; please use the latter.\n",
      "  warnings.warn(self.msg_depr % (key, alt_key))\n"
     ]
    }
   ],
   "source": [
    "import sklearn.datasets as skd\n",
    "import pandas as pd\n",
    "\n",
    "# generate a problem with more overlap\n",
    "X, Y = skd.make_classification(n_samples=10000, n_classes=10, n_informative = 5)\n",
    "df_x = pd.DataFrame(X)\n",
    "df_y = pd.DataFrame(Y)\n",
    "df_x.to_csv(\"classification-10k-10classes-x.csv\", index=False)\n",
    "df_y.to_csv(\"classification-10k-10classes-y.csv\", index=False)"
   ]
  },
  {
   "cell_type": "code",
   "execution_count": null,
   "metadata": {
    "collapsed": true
   },
   "outputs": [],
   "source": []
  }
 ],
 "metadata": {
  "kernelspec": {
   "display_name": "Python 2",
   "language": "python",
   "name": "python2"
  },
  "language_info": {
   "codemirror_mode": {
    "name": "ipython",
    "version": 2
   },
   "file_extension": ".py",
   "mimetype": "text/x-python",
   "name": "python",
   "nbconvert_exporter": "python",
   "pygments_lexer": "ipython2",
   "version": "2.7.11"
  }
 },
 "nbformat": 4,
 "nbformat_minor": 0
}
