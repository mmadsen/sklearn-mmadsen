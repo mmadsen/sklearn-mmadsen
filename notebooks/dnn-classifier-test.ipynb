{
 "cells": [
  {
   "cell_type": "markdown",
   "metadata": {},
   "source": [
    "## Test script for using ParameterizedDNNClassifier with SKL GridSearchCV"
   ]
  },
  {
   "cell_type": "markdown",
   "metadata": {},
   "source": [
    "Keras is a library for quickly creating deep neural network (DNN) models out of standard layer types, activation functions, and other components without hand-crafting Theano or other low level code.  Keras has the additional advantage that its models can be run with Theano and TensorFlow backends without modification (usually, unless you're writing your own Keras extensions).  \n",
    "\n",
    "Since one of the most common tasks I do with ML tools is supervised multiclass classification, I wanted an easy way to include a DNN for such classifiers whenever I'm screening models in scikit-learn.  ParameterizedDNNClassifier takes some simple parameters and the generates an appropriate multilayer DNN in Keras, with one or more fully-connected hidden layers (with specifiable activation function, defaulting to ReLU), and configurable input and output layers.  Future additions will make the optimizer and other aspects parameterized as well.  \n",
    "\n",
    "ParameterizedDNNClassifier subclasses BaseEstimator and ClassifierMixin from scikit-learn, and provides appropriate score and predict functions which allow it to act like any other SKL estimator.  With one exception (getting training history from the underlying Keras object), you can use ParameterizedDNNClassifier in a Pipeline or in GridSearchCV, etc.  \n",
    "\n",
    "The following test harness does a simple grid search cross validation over a synthetic classification data set with 10K data points and 10 classes.  \n"
   ]
  },
  {
   "cell_type": "code",
   "execution_count": 1,
   "metadata": {
    "collapsed": false
   },
   "outputs": [
    {
     "name": "stdout",
     "output_type": "stream",
     "text": [
      "Using TensorFlow backend.\n"
     ]
    },
    {
     "name": "stderr",
     "output_type": "stream",
     "text": [
      "/Users/mark/anaconda/lib/python2.7/site-packages/matplotlib/__init__.py:872: UserWarning: axes.color_cycle is deprecated and replaced with axes.prop_cycle; please use the latter.\n",
      "  warnings.warn(self.msg_depr % (key, alt_key))\n"
     ]
    }
   ],
   "source": [
    "import random\n",
    "import numpy as np \n",
    "import pandas as pd \n",
    "import matplotlib as mpl \n",
    "import matplotlib.pyplot as plt \n",
    "import seaborn as sns\n",
    "import sys\n",
    "import pprint as pp\n",
    "\n",
    "from sklearn.grid_search import GridSearchCV\n",
    "from sklearn.cross_validation import train_test_split\n",
    "from sklearn.metrics import accuracy_score\n",
    "from sklearn.metrics import classification_report\n",
    "\n",
    "from sklearn_mmadsen import ParameterizedDNNClassifier\n",
    "\n",
    "%matplotlib inline"
   ]
  },
  {
   "cell_type": "code",
   "execution_count": 2,
   "metadata": {
    "collapsed": true
   },
   "outputs": [],
   "source": [
    "## Seaborn confusion matrix heatmap\n",
    "def confusion_heatmap(y_test, y_pred, labels):\n",
    "    from sklearn.metrics import confusion_matrix\n",
    "    mat = confusion_matrix(y_test, y_pred)\n",
    "    ax = sns.heatmap(mat.T, square=True, annot=True, fmt='d', cbar=False,\n",
    "                     xticklabels=labels, yticklabels=labels)"
   ]
  },
  {
   "cell_type": "code",
   "execution_count": 3,
   "metadata": {
    "collapsed": true
   },
   "outputs": [],
   "source": [
    "###### Replication #######\n",
    "\n",
    "#random.seed(7112)"
   ]
  },
  {
   "cell_type": "code",
   "execution_count": 4,
   "metadata": {
    "collapsed": false
   },
   "outputs": [],
   "source": [
    "df_x = pd.read_csv(\"../testdata/classification-10k-10classes-x.csv.gz\")\n",
    "df_y = pd.read_csv(\"../testdata/classification-10k-10classes-y.csv.gz\")"
   ]
  },
  {
   "cell_type": "code",
   "execution_count": 5,
   "metadata": {
    "collapsed": false
   },
   "outputs": [
    {
     "name": "stdout",
     "output_type": "stream",
     "text": [
      "Prepared data sets\n",
      "Train:\n",
      "X_train:  (8000, 20)\n",
      "y_train:  (8000, 10)\n",
      "\n",
      "Test:\n",
      "X_test:  (2000, 20)\n",
      "y_test:  (2000, 10)\n"
     ]
    }
   ],
   "source": [
    "############ prepare data ###########\n",
    "\n",
    "# specify the correct data types because we're probably using the GPU\n",
    "X = df_x.astype(np.float32)\n",
    "y = df_y.astype(np.int32)\n",
    "\n",
    "# one-hot encode the class label since the output layer of the DNN will have multiple units, \n",
    "# each corresponding to a class\n",
    "y = pd.concat([y, pd.get_dummies(y['0']).rename(columns=lambda x: 'col_' + str(x))], axis=1)\n",
    "y.drop('0', axis=1, inplace=True\t)\n",
    "\n",
    "# get pure numpy arrays\n",
    "X = X.values\n",
    "y = y.values\n",
    "\n",
    "### create a train/test split ###\n",
    "X_train, X_test, y_train, y_test = train_test_split(X, y, test_size=0.2)\n",
    "\n",
    "x_train_rows = X_train.shape[0]\n",
    "x_train_cols = X_train.shape[1]\n",
    "x_test_rows = X_test.shape[0]\n",
    "x_test_cols = X_test.shape[1]\n",
    "y_test_cols = y_test.shape[1]\n",
    "\n",
    "# make sure the data arrays are the correct shape, or Theano will never let you hear the end of it...\n",
    "X_train = X_train.reshape(x_train_rows, x_train_cols)\n",
    "X_test = X_test.reshape(x_test_rows, x_test_cols)\n",
    "\n",
    "print \"Prepared data sets\"\n",
    "print \"Train:\"\n",
    "print \"X_train: \", X_train.shape\n",
    "print \"y_train: \", y_train.shape\n",
    "print \"\\nTest:\"\n",
    "print \"X_test: \",X_test.shape\n",
    "print \"y_test: \",y_test.shape "
   ]
  },
  {
   "cell_type": "code",
   "execution_count": 6,
   "metadata": {
    "collapsed": false
   },
   "outputs": [
    {
     "name": "stdout",
     "output_type": "stream",
     "text": [
      "Fitting 3 folds for each of 4 candidates, totalling 12 fits\n",
      "Train on 4799 samples, validate on 534 samples\n",
      "Epoch 1/2\n",
      "4799/4799 [==============================] - 2s - loss: 0.3316 - acc: 0.1102 - val_loss: 0.3250 - val_acc: 0.1498\n",
      "Epoch 2/2\n",
      "4799/4799 [==============================] - 2s - loss: 0.3286 - acc: 0.1173 - val_loss: 0.3227 - val_acc: 0.1816\n",
      "2667/2667 [==============================] - 0s     \n",
      "Train on 4799 samples, validate on 534 samples\n",
      "Epoch 1/2\n",
      "4799/4799 [==============================] - 2s - loss: 0.3300 - acc: 0.0938 - val_loss: 0.3248 - val_acc: 0.0918\n",
      "Epoch 2/2\n",
      "4799/4799 [==============================] - 2s - loss: 0.3279 - acc: 0.1092 - val_loss: 0.3226 - val_acc: 0.1479\n",
      "2667/2667 [==============================] - 0s     \n",
      "Train on 4800 samples, validate on 534 samples\n",
      "Epoch 1/2\n",
      "4800/4800 [==============================] - 2s - loss: 0.3312 - acc: 0.0996 - val_loss: 0.3245 - val_acc: 0.1011\n",
      "Epoch 2/2\n",
      "4800/4800 [==============================] - 2s - loss: 0.3288 - acc: 0.1015 - val_loss: 0.3224 - val_acc: 0.1554\n",
      "2666/2666 [==============================] - 0s     \n",
      "Train on 4799 samples, validate on 534 samples\n",
      "Epoch 1/2\n",
      "4799/4799 [==============================] - 3s - loss: 0.3305 - acc: 0.0992 - val_loss: 0.3239 - val_acc: 0.1142\n",
      "Epoch 2/2\n",
      "4799/4799 [==============================] - 3s - loss: 0.3286 - acc: 0.1034 - val_loss: 0.3220 - val_acc: 0.1573\n",
      "2667/2667 [==============================] - 0s     \n",
      "Train on 4799 samples, validate on 534 samples\n",
      "Epoch 1/2\n",
      "4799/4799 [==============================] - 3s - loss: 0.3294 - acc: 0.1109 - val_loss: 0.3234 - val_acc: 0.1161\n",
      "Epoch 2/2\n",
      "4799/4799 [==============================] - 2s - loss: 0.3278 - acc: 0.1127 - val_loss: 0.3209 - val_acc: 0.1742\n",
      "2667/2667 [==============================] - 0s     \n",
      "Train on 4800 samples, validate on 534 samples\n",
      "Epoch 1/2\n",
      "4800/4800 [==============================] - 3s - loss: 0.3320 - acc: 0.1027 - val_loss: 0.3249 - val_acc: 0.1386\n",
      "Epoch 2/2\n",
      "4800/4800 [==============================] - 2s - loss: 0.3304 - acc: 0.1108 - val_loss: 0.3230 - val_acc: 0.1835\n",
      "2666/2666 [==============================] - 0s     \n",
      "Train on 4799 samples, validate on 534 samples\n",
      "Epoch 1/2\n",
      "4799/4799 [==============================] - 3s - loss: 0.3311 - acc: 0.0977 - val_loss: 0.3250 - val_acc: 0.1386\n",
      "Epoch 2/2\n",
      "4799/4799 [==============================] - 2s - loss: 0.3302 - acc: 0.1017 - val_loss: 0.3231 - val_acc: 0.1592\n",
      "2667/2667 [==============================] - 0s     \n",
      "Train on 4799 samples, validate on 534 samples\n",
      "Epoch 1/2\n",
      "4799/4799 [==============================] - 3s - loss: 0.3304 - acc: 0.1019 - val_loss: 0.3255 - val_acc: 0.1124\n",
      "Epoch 2/2\n",
      "4799/4799 [==============================] - 2s - loss: 0.3291 - acc: 0.1048 - val_loss: 0.3231 - val_acc: 0.1536\n",
      "2667/2667 [==============================] - 1s     \n",
      "Train on 4800 samples, validate on 534 samples\n",
      "Epoch 1/2\n",
      "4800/4800 [==============================] - 3s - loss: 0.3326 - acc: 0.0962 - val_loss: 0.3261 - val_acc: 0.1067\n",
      "Epoch 2/2\n",
      "4800/4800 [==============================] - 2s - loss: 0.3301 - acc: 0.1048 - val_loss: 0.3243 - val_acc: 0.1199\n",
      "2666/2666 [==============================] - 0s     \n",
      "Train on 4799 samples, validate on 534 samples\n",
      "Epoch 1/2\n",
      "4799/4799 [==============================] - 3s - loss: 0.3317 - acc: 0.1121 - val_loss: 0.3247 - val_acc: 0.1386\n",
      "Epoch 2/2\n",
      "4799/4799 [==============================] - 3s - loss: 0.3294 - acc: 0.1146 - val_loss: 0.3224 - val_acc: 0.1760\n",
      "2667/2667 [==============================] - 0s     \n",
      "Train on 4799 samples, validate on 534 samples\n",
      "Epoch 1/2\n",
      "4799/4799 [==============================] - 3s - loss: 0.3320 - acc: 0.0967 - val_loss: 0.3254 - val_acc: 0.0824\n",
      "Epoch 2/2\n",
      "4799/4799 [==============================] - 2s - loss: 0.3291 - acc: 0.1096 - val_loss: 0.3231 - val_acc: 0.1404\n",
      "2667/2667 [==============================] - 0s     \n",
      "Train on 4800 samples, validate on 534 samples\n",
      "Epoch 1/2\n",
      "4800/4800 [==============================] - 3s - loss: 0.3293 - acc: 0.1079 - val_loss: 0.3235 - val_acc: 0.1255\n",
      "Epoch 2/2\n",
      "4800/4800 [==============================] - 2s - loss: 0.3289 - acc: 0.1100 - val_loss: 0.3217 - val_acc: 0.1835\n",
      "2666/2666 [==============================] - 1s     \n",
      "Train on 7200 samples, validate on 800 samples\n",
      "Epoch 1/2\n",
      "7200/7200 [==============================] - 5s - loss: 0.3309 - acc: 0.0954 - val_loss: 0.3237 - val_acc: 0.1413\n",
      "Epoch 2/2\n",
      "7200/7200 [==============================] - 3s - loss: 0.3280 - acc: 0.1150 - val_loss: 0.3204 - val_acc: 0.2100\n"
     ]
    },
    {
     "name": "stderr",
     "output_type": "stream",
     "text": [
      "[Parallel(n_jobs=1)]: Done  12 out of  12 | elapsed:  3.6min finished\n"
     ]
    }
   ],
   "source": [
    "params = {\n",
    "\t'clf__dropout_fraction': [0.9, 0.5],\n",
    "\t'clf__sgd_lr': [0.01, 0.1],\n",
    "}\n",
    "\n",
    "est = ParameterizedDNNClassifier(input_dimension=20,\n",
    "        output_dimension=10,\n",
    "\t\tnum_dense_hidden=2,\n",
    "\t\tepochs=2,\n",
    "\t\thidden_sizes=[1000,2000,1000])\n",
    "\n",
    "grid_search = GridSearchCV(est, params, n_jobs = 1, verbose = 1)\n",
    "grid_search.fit(X_train, y_train)\n",
    "\n",
    "# This is Keras-specific code.  The fitted model stores the history of training \n",
    "# and validation accuracy so we can examine over or underfitting.  It is also \n",
    "# useful for retrieving the actual number of training epochs in the case that\n",
    "# we have early stopping activated.\n",
    "\n",
    "history = grid_search.best_estimator_.get_history()\n",
    "actual_epoch_count = len(history['acc'])\n"
   ]
  },
  {
   "cell_type": "code",
   "execution_count": 7,
   "metadata": {
    "collapsed": false
   },
   "outputs": [
    {
     "name": "stdout",
     "output_type": "stream",
     "text": [
      "============= Best Estimator from GridSearchCV ==============\n",
      "Best score: 0.173\n",
      "Best parameters:\n",
      "param: batch_size: 500\n",
      "param: decay: 1e-06\n",
      "param: dense_activation: 'relu'\n",
      "param: dropout_fraction: 0.5\n",
      "param: epochs: 2\n",
      "param: hidden_sizes: [1000, 2000, 1000]\n",
      "param: input_dimension: 20\n",
      "param: momentum: 0.9\n",
      "param: num_dense_hidden: 2\n",
      "param: output_activation: 'softmax'\n",
      "param: output_dimension: 10\n",
      "param: sgd_lr: 0.01\n"
     ]
    }
   ],
   "source": [
    "print \"============= Best Estimator from GridSearchCV ==============\"\n",
    "\n",
    "print(\"Best score: %0.3f\" % grid_search.best_score_)\n",
    "print(\"Best parameters:\")\n",
    "best_params = grid_search.best_estimator_.get_params()\n",
    "for param in sorted(best_params.keys()):\n",
    "    print(\"param: %s: %r\" % (param, best_params[param]))"
   ]
  },
  {
   "cell_type": "code",
   "execution_count": 8,
   "metadata": {
    "collapsed": false
   },
   "outputs": [
    {
     "name": "stdout",
     "output_type": "stream",
     "text": [
      "============== Evaluation on Holdout Test Set =============\n",
      "2000/2000 [==============================] - 1s     \n",
      "accuracy on test: 0.1985\n",
      "             precision    recall  f1-score   support\n",
      "\n",
      "          0       0.16      0.03      0.05       219\n",
      "          1       0.25      0.42      0.31       199\n",
      "          2       0.11      0.04      0.06       181\n",
      "          3       0.19      0.38      0.26       196\n",
      "          4       0.20      0.10      0.13       190\n",
      "          5       0.17      0.21      0.19       180\n",
      "          6       0.00      0.00      0.00       207\n",
      "          7       0.19      0.66      0.29       204\n",
      "          8       0.24      0.07      0.11       210\n",
      "          9       0.36      0.08      0.14       214\n",
      "\n",
      "avg / total       0.19      0.20      0.15      2000\n",
      "\n"
     ]
    }
   ],
   "source": [
    "print \"============== Evaluation on Holdout Test Set =============\"\n",
    "\n",
    "predictions = grid_search.predict(X_test)\n",
    "actuals = np.argmax(y_test, axis=1)\n",
    "\n",
    "print \"accuracy on test: %s\" % accuracy_score(actuals, predictions)\n",
    "\n",
    "print(classification_report(actuals, predictions))"
   ]
  },
  {
   "cell_type": "code",
   "execution_count": 9,
   "metadata": {
    "collapsed": false
   },
   "outputs": [
    {
     "data": {
      "image/png": "[encoded data removed]",
      "text/plain": [
       "<matplotlib.figure.Figure at 0x1689f58d0>"
      ]
     },
     "metadata": {},
     "output_type": "display_data"
    }
   ],
   "source": [
    "# build a graph of the training/validation accuracy versus training epoch\n",
    "# to look for overfitting\n",
    "\n",
    "train_acc_hist = history['acc']\n",
    "val_acc_hist = history['val_acc']\n",
    "epoch_list = range(0, actual_epoch_count)\n",
    "\n",
    "dat = { 'train_acc': train_acc_hist, 'val_acc': val_acc_hist }\n",
    "hist_df = pd.DataFrame(data=dat, index=epoch_list)\n",
    "\n",
    "plt.figure(figsize=(11,8.5), dpi=300)\n",
    "\n",
    "plt.plot(hist_df.index, hist_df['train_acc'], color='green', linestyle='dashed', marker='+',\n",
    "     markerfacecolor='black', markersize=7, label=\"Training Accuracy\", alpha=0.4)\n",
    "plt.plot(hist_df.index, hist_df['val_acc'], color='red', linestyle='dashed', marker='x',\n",
    "     markerfacecolor='black', markersize=7, label=\"Validation Accuracy\", alpha=0.4)\n",
    "plt.legend(fontsize='large')\n",
    "\n",
    "plt.xlabel('Epoch', fontsize='large')\n",
    "plt.ylabel('Classification Accuracy', fontsize='large')\n",
    "plt.title('Training and Validation Accuracy By Epoch', fontsize='large')\n",
    "plt.show()"
   ]
  },
  {
   "cell_type": "code",
   "execution_count": 10,
   "metadata": {
    "collapsed": false
   },
   "outputs": [
    {
     "data": {
      "image/png": "[encoded data removed]",
      "text/plain": [
       "<matplotlib.figure.Figure at 0x1688b77d0>"
      ]
     },
     "metadata": {},
     "output_type": "display_data"
    }
   ],
   "source": [
    "labels = range(0, y_test_cols)\n",
    "confusion_heatmap(actuals, predictions, labels)"
   ]
  },
  {
   "cell_type": "code",
   "execution_count": null,
   "metadata": {
    "collapsed": true
   },
   "outputs": [],
   "source": []
  }
 ],
 "metadata": {
  "kernelspec": {
   "display_name": "Python 2",
   "language": "python",
   "name": "python2"
  },
  "language_info": {
   "codemirror_mode": {
    "name": "ipython",
    "version": 2
   },
   "file_extension": ".py",
   "mimetype": "text/x-python",
   "name": "python",
   "nbconvert_exporter": "python",
   "pygments_lexer": "ipython2",
   "version": "2.7.11"
  }
 },
 "nbformat": 4,
 "nbformat_minor": 0
}
